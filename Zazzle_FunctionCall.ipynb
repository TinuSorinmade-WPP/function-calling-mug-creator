{
 "cells": [
  {
   "cell_type": "markdown",
   "metadata": {},
   "source": [
    "<h2> Function Calling: Zazzle API meets ChatGPT</h2>"
   ]
  },
  {
   "cell_type": "markdown",
   "metadata": {},
   "source": [
    "<h4> Importing Relevant Files</h4>"
   ]
  },
  {
   "cell_type": "code",
   "execution_count": 221,
   "metadata": {},
   "outputs": [],
   "source": [
    "# Importing the relevant Packages \n",
    "from openai import AzureOpenAI\n",
    "import os\n",
    "import requests\n",
    "import json\n",
    "import urllib.parse"
   ]
  },
  {
   "cell_type": "markdown",
   "metadata": {},
   "source": [
    "<h4>Creating the Messages to help AI responses</h4>"
   ]
  },
  {
   "cell_type": "code",
   "execution_count": 232,
   "metadata": {},
   "outputs": [
    {
     "name": "stdin",
     "output_type": "stream",
     "text": [
      "What is the name/content of the event that you want merch for:  Tao's 30th Birthday\n"
     ]
    },
    {
     "name": "stdout",
     "output_type": "stream",
     "text": [
      "Tao's 30th Birthday\n"
     ]
    }
   ],
   "source": [
    "# Take the User Input\n",
    "event_name = input(\"What is the name/content of the event that you want merch for: \")\n",
    "print(event_name)"
   ]
  },
  {
   "cell_type": "markdown",
   "metadata": {},
   "source": [
    "<h4> Setting up the Credentials </h4>"
   ]
  },
  {
   "cell_type": "code",
   "execution_count": 233,
   "metadata": {},
   "outputs": [],
   "source": [
    "client = AzureOpenAI(\n",
    "    api_key = os.getenv(\"AZURE_KEY\"),\n",
    "    azure_endpoint = os.getenv(\"AZURE_ENDPOINT\"),\n",
    "    api_version = \"2023-10-01-preview\"\n",
    ")"
   ]
  },
  {
   "cell_type": "markdown",
   "metadata": {},
   "source": [
    "<h4> Create  function to Generate a Poem for this event </h4>"
   ]
  },
  {
   "cell_type": "code",
   "execution_count": 234,
   "metadata": {},
   "outputs": [],
   "source": [
    "def generate_poem_from_chatgpt(event_name):\n",
    "    messages = [\n",
    "        {\"role\": \"system\", \"content\": f\"Generate a 130 character rap for {event_name}.\"},\n",
    "        {\"role\": \"user\", \"content\": f\"Write a rap for {event_name}\"}\n",
    "    ]\n",
    "    response = client.chat.completions.create(\n",
    "        model=\"GPT-4\",\n",
    "        messages=messages,\n",
    "        tools=functions,  # Note this\n",
    "        tool_choice=\"auto\"  # And this\n",
    "    )\n",
    "    poem = response.choices[0].message.content # Access the generated poem (from the 'message' field in the first choice)\n",
    "    return poem"
   ]
  },
  {
   "cell_type": "markdown",
   "metadata": {},
   "source": [
    "<h4> Create a Function to create a Zazzle Link for a Mug that has the poem printed on it </h4>"
   ]
  },
  {
   "cell_type": "code",
   "execution_count": 235,
   "metadata": {},
   "outputs": [],
   "source": [
    "def mug_creator(event_name):\n",
    "    poem = generate_poem_from_chatgpt(event_name)\n",
    "    # Base URL for the Coffee Mug creation on Zazzle\n",
    "    base_url = \"https://www.zazzle.com/api/create/at-238348553720143566?rf=238348553720143566&pd=256529855831094801&ed=true&ax=Linkover&t_customblanktemplate_txt=\"\n",
    "    encoded_poem = urllib.parse.quote_plus(poem)     # URL encode the entire poem (preserving spaces as '%20')\n",
    "    final_url = base_url + encoded_poem\n",
    "    return final_url    # Return the final Zazzle URL"
   ]
  },
  {
   "cell_type": "code",
   "execution_count": 236,
   "metadata": {},
   "outputs": [],
   "source": [
    "functions = [\n",
    "    {\n",
    "        \"type\": \"function\",\n",
    "        \"function\": {\n",
    "            \"name\": \"get_zazzle_link\",\n",
    "            \"description\": \"Get a zazzle link for the event\",\n",
    "            \"parameters\": {\n",
    "                \"type\": \"object\",\n",
    "                \"properties\": {\n",
    "                    \"zazzle_link\": {\n",
    "                        \"type\": \"string\",\n",
    "                        \"description\": \"The name of the event for which a mug will be designed.\"\n",
    "                    }\n",
    "                },\n",
    "                \"required\": [\"zazzle_link\"]\n",
    "            }\n",
    "        }\n",
    "    }\n",
    "]"
   ]
  },
  {
   "cell_type": "code",
   "execution_count": 237,
   "metadata": {},
   "outputs": [],
   "source": [
    "messages = [\n",
    "    {\"role\": \"system\", \"content\": f\"Generate a personalized Zazzle Link for {event_name}\"},\n",
    "    {\"role\": \"user\", \"content\": f\"Give me a personalized zazzle link for my event: {event_name}\"}\n",
    "]"
   ]
  },
  {
   "cell_type": "code",
   "execution_count": 238,
   "metadata": {},
   "outputs": [],
   "source": [
    "response = client.chat.completions.create(\n",
    "    model=\"GPT-4\",\n",
    "    messages=messages,\n",
    "    tools=functions,\n",
    "    tool_choice=\"auto\"\n",
    ")"
   ]
  },
  {
   "cell_type": "code",
   "execution_count": 239,
   "metadata": {},
   "outputs": [
    {
     "name": "stdout",
     "output_type": "stream",
     "text": [
      "ChatCompletionMessage(content=None, refusal=None, role='assistant', audio=None, function_call=None, tool_calls=[ChatCompletionMessageToolCall(id='call_vzYN29KA23P7jEf2kwbNR2Lm', function=Function(arguments='{\\n  \"zazzle_link\": \"Tao\\'s 30th Birthday\"\\n}', name='get_zazzle_link'), type='function')])\n"
     ]
    }
   ],
   "source": [
    "response_message = response.choices[0].message\n",
    "print(response_message)"
   ]
  },
  {
   "cell_type": "code",
   "execution_count": 240,
   "metadata": {},
   "outputs": [
    {
     "name": "stdout",
     "output_type": "stream",
     "text": [
      "[ChatCompletionMessageToolCall(id='call_vzYN29KA23P7jEf2kwbNR2Lm', function=Function(arguments='{\\n  \"zazzle_link\": \"Tao\\'s 30th Birthday\"\\n}', name='get_zazzle_link'), type='function')]\n"
     ]
    }
   ],
   "source": [
    "gpt_tools = response.choices[0].message.tool_calls\n",
    "print(gpt_tools)"
   ]
  },
  {
   "cell_type": "code",
   "execution_count": 241,
   "metadata": {},
   "outputs": [
    {
     "name": "stdout",
     "output_type": "stream",
     "text": [
      "<function mug_creator at 0x00000217F517EAC0>\n",
      "Tao's 30th Birthday\n",
      "Here's your personalized Zazzle link for Tao's 30th Birthday: [Click here](https://www.zazzle.com/api/create/at-238348553720143566?rf=238348553720143566&pd=256529855831094801&ed=true&ax=Linkover&t_customblanktemplate_txt=%22Hey%2C+it%27s+Tao%27s+day%2C+big+30+on+display%2C+wisdom+in+his+DNA.+Aging+like+fine+Cabernet%2C+older+but+heart%27s+still+play.+HBD%2C+Tao%2C+let%27s+slay%21%22)\n"
     ]
    }
   ],
   "source": [
    "if gpt_tools:\n",
    "    available_functions = {\n",
    "        \"get_zazzle_link\": mug_creator\n",
    "    }\n",
    "    messages.append(response_message)\n",
    "    for gpt_tool in gpt_tools:\n",
    "        function_name = gpt_tool.function.name\n",
    "        print(function_to_call)\n",
    "        function_parameters = json.loads(gpt_tool.function.arguments)\n",
    "        function_response = function_to_call(function_parameters.get('zazzle_link')) # applies the get_zazzle_link parameters to the mug_creator function\n",
    "        print(function_parameters.get('zazzle_link'))\n",
    "        messages.append(\n",
    "            {\n",
    "                \"tool_call_id\": gpt_tool.id,\n",
    "                \"role\": \"tool\",\n",
    "                \"name\": function_name,\n",
    "                \"content\": function_response\n",
    "            }\n",
    "        )\n",
    "        second_response = client.chat.completions.create(\n",
    "            model=\"GPT-4\",\n",
    "            messages=messages\n",
    "        )\n",
    "        print(second_response.choices[0].message.content)\n",
    "else:\n",
    "    print(response.choices[0].message.content)"
   ]
  }
 ],
 "metadata": {
  "kernelspec": {
   "display_name": "Python 3 (ipykernel)",
   "language": "python",
   "name": "python3"
  },
  "language_info": {
   "codemirror_mode": {
    "name": "ipython",
    "version": 3
   },
   "file_extension": ".py",
   "mimetype": "text/x-python",
   "name": "python",
   "nbconvert_exporter": "python",
   "pygments_lexer": "ipython3",
   "version": "3.12.7"
  }
 },
 "nbformat": 4,
 "nbformat_minor": 4
}
